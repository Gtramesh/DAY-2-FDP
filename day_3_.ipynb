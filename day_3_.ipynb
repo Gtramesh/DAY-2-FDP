{
  "nbformat": 4,
  "nbformat_minor": 0,
  "metadata": {
    "colab": {
      "provenance": [],
      "authorship_tag": "ABX9TyPi0Ic6a0fEV69yIf4+L5Sg",
      "include_colab_link": true
    },
    "kernelspec": {
      "name": "python3",
      "display_name": "Python 3"
    },
    "language_info": {
      "name": "python"
    }
  },
  "cells": [
    {
      "cell_type": "markdown",
      "metadata": {
        "id": "view-in-github",
        "colab_type": "text"
      },
      "source": [
        "<a href=\"https://colab.research.google.com/github/Gtramesh/DAY-2-FDP/blob/main/day_3_.ipynb\" target=\"_parent\"><img src=\"https://colab.research.google.com/assets/colab-badge.svg\" alt=\"Open In Colab\"/></a>"
      ]
    },
    {
      "cell_type": "code",
      "execution_count": 9,
      "metadata": {
        "colab": {
          "base_uri": "https://localhost:8080/",
          "height": 472
        },
        "id": "XjFQDA1SFp1x",
        "outputId": "7c282092-1130-41eb-ba96-2528f60ac2e2"
      },
      "outputs": [
        {
          "output_type": "display_data",
          "data": {
            "text/plain": [
              "<Figure size 640x480 with 1 Axes>"
            ],
            "image/png": "[encoded data removed]"
          },
          "metadata": {}
        }
      ],
      "source": [
        "# prompt: histogram plot using numpy\n",
        "\n",
        "import numpy as np\n",
        "import matplotlib.pyplot as plt\n",
        "\n",
        "# Generate some random data\n",
        "x = np.random.randn(100)\n",
        "\n",
        "# Create the histogram\n",
        "plt.hist(x, bins=10)\n",
        "\n",
        "# Add labels and title\n",
        "plt.xlabel(\"Value\")\n",
        "plt.ylabel(\"Frequency\")\n",
        "plt.title(\"Histogram of Random Data\")\n",
        "\n",
        "# Show the plot\n",
        "plt.show()\n"
      ]
    },
    {
      "cell_type": "code",
      "source": [],
      "metadata": {
        "id": "DjEu4bMJVmlW"
      },
      "execution_count": null,
      "outputs": []
    },
    {
      "cell_type": "code",
      "source": [
        "# prompt: v stack with numpy\n",
        "\n",
        "import numpy as np\n",
        "\n",
        "# Create two arrays\n",
        "a = np.array([[1, 2, 3], [4, 5, 6]])\n",
        "b = np.array([[7, 8, 9]])\n",
        "\n",
        "# Vertically stack the arrays\n",
        "c = np.vstack((a, b))\n",
        "\n",
        "# Print the resulting array\n",
        "print(c)\n",
        "\n"
      ],
      "metadata": {
        "colab": {
          "base_uri": "https://localhost:8080/"
        },
        "id": "ZHNrev18M4Pr",
        "outputId": "829f5adf-65eb-4b32-816b-b0d236fd88c0"
      },
      "execution_count": 14,
      "outputs": [
        {
          "output_type": "stream",
          "name": "stdout",
          "text": [
            "[[1 2 3]\n",
            " [4 5 6]\n",
            " [7 8 9]]\n"
          ]
        }
      ]
    },
    {
      "cell_type": "code",
      "source": [
        "# prompt:  v stack with array\n",
        "\n",
        "import numpy as np\n",
        "\n",
        "# Create two arrays\n",
        "a = np.array([[1, 2, 3], [4, 5, 6]])\n",
        "b = np.array([[7, 8, 9]])\n",
        "\n",
        "# Vertically stack the arrays\n",
        "c = np.vstack((a, b))\n",
        "\n",
        "# Print the resulting array\n",
        "print(c)\n",
        "\n",
        "# Create another array\n",
        "d = np.array([[10, 11, 12]])\n",
        "\n",
        "# Vertically stack c and d\n",
        "e = np.vstack((c, d))\n",
        "\n",
        "# Print the final array\n",
        "print(e)\n"
      ],
      "metadata": {
        "id": "cSdDoedMNHwo"
      },
      "execution_count": null,
      "outputs": []
    },
    {
      "cell_type": "code",
      "source": [
        "# prompt: plot with numpy\n",
        "\n",
        "import numpy as np\n",
        "import matplotlib.pyplot as plt\n",
        "\n",
        "# Create a numpy array of data points\n",
        "x = np.linspace(0, 10, 100)\n",
        "y = np.sin(x)\n",
        "\n",
        "# Plot the data points\n",
        "plt.plot(x, y)\n",
        "\n",
        "# Add labels and title\n",
        "plt.xlabel(\"X-axis\")\n",
        "plt.ylabel(\"Y-axis\")\n",
        "plt.title(\"Sine Function Plot\")\n",
        "\n",
        "# Show the plot\n",
        "plt.show()\n"
      ],
      "metadata": {
        "id": "y1f9aa0XdnTg"
      },
      "execution_count": null,
      "outputs": []
    },
    {
      "cell_type": "code",
      "source": [
        "# prompt: broadcoste with numpy\n",
        "\n",
        "import numpy as np\n",
        "# Create a 2D array\n",
        "a = np.array([[1, 2, 3], [4, 5, 6]])\n",
        "\n",
        "# Create a 1D array\n",
        "b = np.array([7, 8, 9])\n",
        "\n",
        "# Add a new dimension to b to make it broadcastable\n",
        "b = b[np.newaxis, :]\n",
        "\n",
        "# Add a new dimension to a to make it broadcastable\n",
        "a = a[:, np.newaxis]\n",
        "\n",
        "# Add the two arrays\n",
        "c = a + b\n",
        "\n",
        "# Print the resulting array\n",
        "print(c)\n"
      ],
      "metadata": {
        "colab": {
          "base_uri": "https://localhost:8080/"
        },
        "id": "cNwo1QkLe195",
        "outputId": "bbad5cff-9cd3-4aa4-d4a2-5a78c7f0b986"
      },
      "execution_count": 15,
      "outputs": [
        {
          "output_type": "stream",
          "name": "stdout",
          "text": [
            "[[[ 8 10 12]]\n",
            "\n",
            " [[11 13 15]]]\n"
          ]
        }
      ]
    },
    {
      "cell_type": "code",
      "source": [
        "import numpy as np\n",
        "import matplotlib.pyplot as plt\n",
        "data = np.random.rand(100)\n",
        "plt.hist(data, bins=100)\n",
        "plt.xlabel(\"Value\")\n",
        "plt.ylabel(\"Frequency\")\n",
        "plt.title(\"Histogram of Random Data\")\n",
        "plt.show()\n",
        "\n",
        "\n"
      ],
      "metadata": {
        "colab": {
          "base_uri": "https://localhost:8080/",
          "height": 472
        },
        "id": "m0Kn_UCmfpJ5",
        "outputId": "b4bda5f8-b512-4fce-f3ed-fc9b25458ba8"
      },
      "execution_count": 27,
      "outputs": [
        {
          "output_type": "display_data",
          "data": {
            "text/plain": [
              "<Figure size 640x480 with 1 Axes>"
            ],
            "image/png": "[encoded data removed]"
          },
          "metadata": {}
        }
      ]
    }
  ]
}