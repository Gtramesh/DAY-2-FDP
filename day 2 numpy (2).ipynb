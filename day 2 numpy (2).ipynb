{
 "cells": [
  {
   "cell_type": "code",
   "execution_count": 2,
   "id": "708bf117-7d1d-4162-8c2a-3d5e2675baf3",
   "metadata": {},
   "outputs": [
    {
     "name": "stdout",
     "output_type": "stream",
     "text": [
      "a\n",
      "True\n",
      "True\n",
      "h\n"
     ]
    }
   ],
   "source": [
    "my_str = \"ramesh ram\"\n",
    "print(my_str[1])\n",
    "print(\"a\"in my_str)\n",
    "print(\"h\" in my_str)\n",
    "print(my_str[5])"
   ]
  },
  {
   "cell_type": "code",
   "execution_count": 2,
   "id": "567cca34-db63-4b4e-89b7-53d22ec6cc18",
   "metadata": {},
   "outputs": [],
   "source": [
    "import numpy as np\n"
   ]
  },
  {
   "cell_type": "code",
   "execution_count": 12,
   "id": "75c6fc4a-60d2-45d8-88b6-1776c7b09133",
   "metadata": {},
   "outputs": [
    {
     "name": "stdout",
     "output_type": "stream",
     "text": [
      "[1 2 3 4 5]\n",
      "5\n",
      "(5,)\n"
     ]
    }
   ],
   "source": [
    "arr1 = np.array([1,2,3,4,5])\n",
    "print(arr1)\n",
    "print(arr1.size)\n",
    "print(arr1.shape)"
   ]
  },
  {
   "cell_type": "code",
   "execution_count": 16,
   "id": "0bd9a246-3a0b-4052-ad91-211d8261c6cb",
   "metadata": {},
   "outputs": [
    {
     "name": "stdout",
     "output_type": "stream",
     "text": [
      "[0 1 2 3 4 5]\n"
     ]
    }
   ],
   "source": [
    "arr1 = np.arange(6)\n",
    "print(arr1)"
   ]
  },
  {
   "cell_type": "code",
   "execution_count": 13,
   "id": "9db50ad6-6a59-4edd-b09b-70d8eebcc2c0",
   "metadata": {},
   "outputs": [
    {
     "name": "stdout",
     "output_type": "stream",
     "text": [
      "[[0. 0. 0. 0.]\n",
      " [0. 0. 0. 0.]\n",
      " [0. 0. 0. 0.]]\n",
      "[[1. 1. 1. 1.]\n",
      " [1. 1. 1. 1.]\n",
      " [1. 1. 1. 1.]]\n",
      "12\n",
      "(3, 4)\n"
     ]
    }
   ],
   "source": [
    "arr_zeros = np.zeros((3,4))\n",
    "arr_ones = np.ones((3,4))\n",
    "print(arr_zeros)\n",
    "print(arr_ones)\n",
    "\n",
    "\n",
    "print(arr_ones.size)\n",
    "print(arr_ones.shape)"
   ]
  },
  {
   "cell_type": "code",
   "execution_count": 15,
   "id": "d98a4a85-2483-4d85-be1b-412f7888b6b2",
   "metadata": {},
   "outputs": [
    {
     "name": "stdout",
     "output_type": "stream",
     "text": [
      "[2 4]\n"
     ]
    }
   ],
   "source": [
    "arr3 = np.array([1,2])\n",
    "arr4 = np.array([1,2])\n",
    "print(arr3 + arr4)"
   ]
  },
  {
   "cell_type": "code",
   "execution_count": 16,
   "id": "9f71bd7a-7ea3-46e4-9659-72c2de2536d7",
   "metadata": {},
   "outputs": [
    {
     "name": "stdout",
     "output_type": "stream",
     "text": [
      "[1 4]\n"
     ]
    }
   ],
   "source": [
    "arr3 = np.array([1,2])\n",
    "arr4 = np.array([1,2])\n",
    "print(arr3 * arr4)\n"
   ]
  },
  {
   "cell_type": "code",
   "execution_count": 17,
   "id": "8560fc4f-9d4f-4480-9a6a-edba03a6f7df",
   "metadata": {},
   "outputs": [
    {
     "name": "stdout",
     "output_type": "stream",
     "text": [
      "[4 6]\n",
      "[2 6]\n"
     ]
    }
   ],
   "source": [
    "arr5 = np.array([[1,2],\n",
    "                 [4,6]])\n",
    "print(arr5[1])\n",
    "print(arr5[:,1])\n"
   ]
  },
  {
   "cell_type": "code",
   "execution_count": 21,
   "id": "2d1cffaf-469a-4a3c-91f5-bdc0a101c27f",
   "metadata": {},
   "outputs": [
    {
     "name": "stdout",
     "output_type": "stream",
     "text": [
      "[[ 4  7]\n",
      " [ 9 12]]\n"
     ]
    }
   ],
   "source": [
    "arr5 = np.array([[1,2],\n",
    "                 [4,6]])\n",
    "arr6 = np.array([[3,5],\n",
    "                [5,6]])\n",
    "print(arr5 + arr6)\n"
   ]
  },
  {
   "cell_type": "code",
   "execution_count": 22,
   "id": "6035de5d-c315-4f8d-98c7-af8ffbd0d675",
   "metadata": {},
   "outputs": [
    {
     "name": "stdout",
     "output_type": "stream",
     "text": [
      "[[ 3 10]\n",
      " [20 36]]\n"
     ]
    }
   ],
   "source": [
    "arr5 = np.array([[1,2],\n",
    "                 [4,6]])\n",
    "arr6 = np.array([[3,5],\n",
    "                [5,6]])\n",
    "print(arr5 * arr6)\n"
   ]
  },
  {
   "cell_type": "code",
   "execution_count": 23,
   "id": "ec4cceff-d1cc-4ac8-b559-54dac64af3b9",
   "metadata": {},
   "outputs": [
    {
     "name": "stdout",
     "output_type": "stream",
     "text": [
      "[[0.33333333 0.4       ]\n",
      " [0.8        1.        ]]\n"
     ]
    }
   ],
   "source": [
    "arr5 = np.array([[1,2],\n",
    "                 [4,6]])\n",
    "arr6 = np.array([[3,5],\n",
    "                [5,6]])\n",
    "print(arr5 / arr6)\n"
   ]
  },
  {
   "cell_type": "code",
   "execution_count": 24,
   "id": "dce9654f-090c-4329-8c39-468d0ac5e583",
   "metadata": {},
   "outputs": [
    {
     "name": "stdout",
     "output_type": "stream",
     "text": [
      "[[-2 -3]\n",
      " [-1  0]]\n"
     ]
    }
   ],
   "source": [
    "arr5 = np.array([[1,2],\n",
    "                 [4,6]])\n",
    "arr6 = np.array([[3,5],\n",
    "                [5,6]])\n",
    "print(arr5 - arr6)\n"
   ]
  },
  {
   "cell_type": "code",
   "execution_count": 31,
   "id": "d8784f06-acbe-4a1d-b84f-9fef6091a7cb",
   "metadata": {},
   "outputs": [
    {
     "name": "stdout",
     "output_type": "stream",
     "text": [
      "[1 2 3 4]\n",
      "int64\n"
     ]
    }
   ],
   "source": [
    "a = np.array([1,2,3,4], dtype='int64')\n",
    "print(a)\n",
    "print(a.dtype)"
   ]
  },
  {
   "cell_type": "code",
   "execution_count": 32,
   "id": "3b31fbbc-47bd-42d5-9d10-8704e514e57c",
   "metadata": {},
   "outputs": [
    {
     "name": "stdout",
     "output_type": "stream",
     "text": [
      "[[0. 0. 0. 0.]\n",
      " [0. 0. 0. 0.]\n",
      " [0. 0. 0. 0.]]\n",
      "[[1. 1. 1. 1.]\n",
      " [1. 1. 1. 1.]\n",
      " [1. 1. 1. 1.]]\n",
      "12\n",
      "(3, 4)\n",
      "float64\n"
     ]
    }
   ],
   "source": [
    "arr_zeros = np.zeros((3,4))\n",
    "arr_ones = np.ones((3,4))\n",
    "print(arr_zeros)\n",
    "print(arr_ones)\n",
    "\n",
    "\n",
    "print(arr_ones.size)\n",
    "print(arr_ones.shape)\n",
    "print(arr_ones.dtype)"
   ]
  },
  {
   "cell_type": "code",
   "execution_count": null,
   "id": "d3213df4-7e4f-4d28-ad44-a5753f3e94fd",
   "metadata": {},
   "outputs": [],
   "source": []
  }
 ],
 "metadata": {
  "kernelspec": {
   "display_name": "Python 3 (ipykernel)",
   "language": "python",
   "name": "python3"
  },
  "language_info": {
   "codemirror_mode": {
    "name": "ipython",
    "version": 3
   },
   "file_extension": ".py",
   "mimetype": "text/x-python",
   "name": "python",
   "nbconvert_exporter": "python",
   "pygments_lexer": "ipython3",
   "version": "3.11.7"
  }
 },
 "nbformat": 4,
 "nbformat_minor": 5
}
