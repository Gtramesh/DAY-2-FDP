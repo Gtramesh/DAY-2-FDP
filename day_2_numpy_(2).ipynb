{
  "cells": [
    {
      "cell_type": "markdown",
      "metadata": {
        "id": "view-in-github",
        "colab_type": "text"
      },
      "source": [
        "<a href=\"https://colab.research.google.com/github/Gtramesh/DAY-2-FDP/blob/main/day_2_numpy_(2).ipynb\" target=\"_parent\"><img src=\"https://colab.research.google.com/assets/colab-badge.svg\" alt=\"Open In Colab\"/></a>"
      ]
    },
    {
      "cell_type": "code",
      "execution_count": null,
      "id": "708bf117-7d1d-4162-8c2a-3d5e2675baf3",
      "metadata": {
        "id": "708bf117-7d1d-4162-8c2a-3d5e2675baf3",
        "outputId": "e304c70b-f52c-4925-972c-aaffa63c0ee2"
      },
      "outputs": [
        {
          "name": "stdout",
          "output_type": "stream",
          "text": [
            "a\n",
            "True\n",
            "True\n",
            "h\n"
          ]
        }
      ],
      "source": [
        "my_str = \"ramesh ram\"\n",
        "print(my_str[1])\n",
        "print(\"a\"in my_str)\n",
        "print(\"h\" in my_str)\n",
        "print(my_str[5])"
      ]
    },
    {
      "cell_type": "code",
      "execution_count": null,
      "id": "567cca34-db63-4b4e-89b7-53d22ec6cc18",
      "metadata": {
        "id": "567cca34-db63-4b4e-89b7-53d22ec6cc18"
      },
      "outputs": [],
      "source": [
        "import numpy as np\n"
      ]
    },
    {
      "cell_type": "code",
      "execution_count": null,
      "id": "75c6fc4a-60d2-45d8-88b6-1776c7b09133",
      "metadata": {
        "id": "75c6fc4a-60d2-45d8-88b6-1776c7b09133",
        "outputId": "f30d07e1-712b-406c-9591-8bbbb6daff44"
      },
      "outputs": [
        {
          "name": "stdout",
          "output_type": "stream",
          "text": [
            "[1 2 3 4 5]\n",
            "5\n",
            "(5,)\n"
          ]
        }
      ],
      "source": [
        "arr1 = np.array([1,2,3,4,5])\n",
        "print(arr1)\n",
        "print(arr1.size)\n",
        "print(arr1.shape)"
      ]
    },
    {
      "cell_type": "code",
      "execution_count": null,
      "id": "0bd9a246-3a0b-4052-ad91-211d8261c6cb",
      "metadata": {
        "id": "0bd9a246-3a0b-4052-ad91-211d8261c6cb",
        "outputId": "f442d5a3-7cdd-4bed-8faa-b31968b966d9"
      },
      "outputs": [
        {
          "name": "stdout",
          "output_type": "stream",
          "text": [
            "[0 1 2 3 4 5]\n"
          ]
        }
      ],
      "source": [
        "arr1 = np.arange(6)\n",
        "print(arr1)"
      ]
    },
    {
      "cell_type": "code",
      "execution_count": null,
      "id": "9db50ad6-6a59-4edd-b09b-70d8eebcc2c0",
      "metadata": {
        "id": "9db50ad6-6a59-4edd-b09b-70d8eebcc2c0",
        "outputId": "a84c4e7f-9286-48cf-a07d-f7c2e346d9b3"
      },
      "outputs": [
        {
          "name": "stdout",
          "output_type": "stream",
          "text": [
            "[[0. 0. 0. 0.]\n",
            " [0. 0. 0. 0.]\n",
            " [0. 0. 0. 0.]]\n",
            "[[1. 1. 1. 1.]\n",
            " [1. 1. 1. 1.]\n",
            " [1. 1. 1. 1.]]\n",
            "12\n",
            "(3, 4)\n"
          ]
        }
      ],
      "source": [
        "arr_zeros = np.zeros((3,4))\n",
        "arr_ones = np.ones((3,4))\n",
        "print(arr_zeros)\n",
        "print(arr_ones)\n",
        "\n",
        "\n",
        "print(arr_ones.size)\n",
        "print(arr_ones.shape)"
      ]
    },
    {
      "cell_type": "code",
      "execution_count": null,
      "id": "d98a4a85-2483-4d85-be1b-412f7888b6b2",
      "metadata": {
        "id": "d98a4a85-2483-4d85-be1b-412f7888b6b2",
        "outputId": "322e2239-4047-435a-dd71-810109bb28e1"
      },
      "outputs": [
        {
          "name": "stdout",
          "output_type": "stream",
          "text": [
            "[2 4]\n"
          ]
        }
      ],
      "source": [
        "arr3 = np.array([1,2])\n",
        "arr4 = np.array([1,2])\n",
        "print(arr3 + arr4)"
      ]
    },
    {
      "cell_type": "code",
      "execution_count": null,
      "id": "9f71bd7a-7ea3-46e4-9659-72c2de2536d7",
      "metadata": {
        "id": "9f71bd7a-7ea3-46e4-9659-72c2de2536d7",
        "outputId": "a4371120-65a3-4295-97be-378028063631"
      },
      "outputs": [
        {
          "name": "stdout",
          "output_type": "stream",
          "text": [
            "[1 4]\n"
          ]
        }
      ],
      "source": [
        "arr3 = np.array([1,2])\n",
        "arr4 = np.array([1,2])\n",
        "print(arr3 * arr4)\n"
      ]
    },
    {
      "cell_type": "code",
      "execution_count": null,
      "id": "8560fc4f-9d4f-4480-9a6a-edba03a6f7df",
      "metadata": {
        "id": "8560fc4f-9d4f-4480-9a6a-edba03a6f7df",
        "outputId": "60d4c4bf-0380-4522-d566-4643273aa1ae"
      },
      "outputs": [
        {
          "name": "stdout",
          "output_type": "stream",
          "text": [
            "[4 6]\n",
            "[2 6]\n"
          ]
        }
      ],
      "source": [
        "arr5 = np.array([[1,2],\n",
        "                 [4,6]])\n",
        "print(arr5[1])\n",
        "print(arr5[:,1])\n"
      ]
    },
    {
      "cell_type": "code",
      "execution_count": null,
      "id": "2d1cffaf-469a-4a3c-91f5-bdc0a101c27f",
      "metadata": {
        "id": "2d1cffaf-469a-4a3c-91f5-bdc0a101c27f",
        "outputId": "de3137b0-2a23-436e-a1f0-1be18030dae9"
      },
      "outputs": [
        {
          "name": "stdout",
          "output_type": "stream",
          "text": [
            "[[ 4  7]\n",
            " [ 9 12]]\n"
          ]
        }
      ],
      "source": [
        "arr5 = np.array([[1,2],\n",
        "                 [4,6]])\n",
        "arr6 = np.array([[3,5],\n",
        "                [5,6]])\n",
        "print(arr5 + arr6)\n"
      ]
    },
    {
      "cell_type": "code",
      "execution_count": null,
      "id": "6035de5d-c315-4f8d-98c7-af8ffbd0d675",
      "metadata": {
        "id": "6035de5d-c315-4f8d-98c7-af8ffbd0d675",
        "outputId": "3fb93dab-9f6f-4ba9-d019-fda47cd8d414"
      },
      "outputs": [
        {
          "name": "stdout",
          "output_type": "stream",
          "text": [
            "[[ 3 10]\n",
            " [20 36]]\n"
          ]
        }
      ],
      "source": [
        "arr5 = np.array([[1,2],\n",
        "                 [4,6]])\n",
        "arr6 = np.array([[3,5],\n",
        "                [5,6]])\n",
        "print(arr5 * arr6)\n"
      ]
    },
    {
      "cell_type": "code",
      "execution_count": null,
      "id": "ec4cceff-d1cc-4ac8-b559-54dac64af3b9",
      "metadata": {
        "id": "ec4cceff-d1cc-4ac8-b559-54dac64af3b9",
        "outputId": "fb5549f8-422d-4352-dd94-e237e7436376"
      },
      "outputs": [
        {
          "name": "stdout",
          "output_type": "stream",
          "text": [
            "[[0.33333333 0.4       ]\n",
            " [0.8        1.        ]]\n"
          ]
        }
      ],
      "source": [
        "arr5 = np.array([[1,2],\n",
        "                 [4,6]])\n",
        "arr6 = np.array([[3,5],\n",
        "                [5,6]])\n",
        "print(arr5 / arr6)\n"
      ]
    },
    {
      "cell_type": "code",
      "execution_count": null,
      "id": "dce9654f-090c-4329-8c39-468d0ac5e583",
      "metadata": {
        "id": "dce9654f-090c-4329-8c39-468d0ac5e583",
        "outputId": "eaae79d1-35fd-4132-91a1-07c995a27aa5"
      },
      "outputs": [
        {
          "name": "stdout",
          "output_type": "stream",
          "text": [
            "[[-2 -3]\n",
            " [-1  0]]\n"
          ]
        }
      ],
      "source": [
        "arr5 = np.array([[1,2],\n",
        "                 [4,6]])\n",
        "arr6 = np.array([[3,5],\n",
        "                [5,6]])\n",
        "print(arr5 - arr6)\n"
      ]
    },
    {
      "cell_type": "code",
      "execution_count": null,
      "id": "d8784f06-acbe-4a1d-b84f-9fef6091a7cb",
      "metadata": {
        "id": "d8784f06-acbe-4a1d-b84f-9fef6091a7cb",
        "outputId": "560145e2-6945-4ce8-860a-4d41c77fedcb"
      },
      "outputs": [
        {
          "name": "stdout",
          "output_type": "stream",
          "text": [
            "[1 2 3 4]\n",
            "int64\n"
          ]
        }
      ],
      "source": [
        "a = np.array([1,2,3,4], dtype='int64')\n",
        "print(a)\n",
        "print(a.dtype)"
      ]
    },
    {
      "cell_type": "code",
      "execution_count": null,
      "id": "3b31fbbc-47bd-42d5-9d10-8704e514e57c",
      "metadata": {
        "id": "3b31fbbc-47bd-42d5-9d10-8704e514e57c",
        "outputId": "578952e0-b935-4484-f964-abe83e8cd757"
      },
      "outputs": [
        {
          "name": "stdout",
          "output_type": "stream",
          "text": [
            "[[0. 0. 0. 0.]\n",
            " [0. 0. 0. 0.]\n",
            " [0. 0. 0. 0.]]\n",
            "[[1. 1. 1. 1.]\n",
            " [1. 1. 1. 1.]\n",
            " [1. 1. 1. 1.]]\n",
            "12\n",
            "(3, 4)\n",
            "float64\n"
          ]
        }
      ],
      "source": [
        "arr_zeros = np.zeros((3,4))\n",
        "arr_ones = np.ones((3,4))\n",
        "print(arr_zeros)\n",
        "print(arr_ones)\n",
        "\n",
        "\n",
        "print(arr_ones.size)\n",
        "print(arr_ones.shape)\n",
        "print(arr_ones.dtype)"
      ]
    },
    {
      "cell_type": "code",
      "execution_count": 10,
      "id": "d3213df4-7e4f-4d28-ad44-a5753f3e94fd",
      "metadata": {
        "colab": {
          "base_uri": "https://localhost:8080/"
        },
        "id": "d3213df4-7e4f-4d28-ad44-a5753f3e94fd",
        "outputId": "69c9bedf-64b8-413a-e75f-6f82e0953f20"
      },
      "outputs": [
        {
          "output_type": "execute_result",
          "data": {
            "text/plain": [
              "8"
            ]
          },
          "metadata": {},
          "execution_count": 10
        }
      ],
      "source": [
        "a = np.array([1,2,3,4],dtype='int64')\n",
        "a.ndim\n",
        "a.itemsize\n",
        "\n"
      ]
    },
    {
      "cell_type": "code",
      "source": [
        "a = np.array([[1,2],\n",
        "                 [4,6]])\n",
        "print(a)\n",
        "a[0,0]"
      ],
      "metadata": {
        "colab": {
          "base_uri": "https://localhost:8080/"
        },
        "id": "5cH39CSSxq1L",
        "outputId": "f45117bd-c74f-4602-b78e-941e4ef8b0b6"
      },
      "id": "5cH39CSSxq1L",
      "execution_count": 18,
      "outputs": [
        {
          "output_type": "stream",
          "name": "stdout",
          "text": [
            "[[1 2]\n",
            " [4 6]]\n"
          ]
        },
        {
          "output_type": "execute_result",
          "data": {
            "text/plain": [
              "1"
            ]
          },
          "metadata": {},
          "execution_count": 18
        }
      ]
    },
    {
      "cell_type": "code",
      "source": [
        "a = np.array([1,2,3,4,5,6])\n",
        "print(a)"
      ],
      "metadata": {
        "colab": {
          "base_uri": "https://localhost:8080/"
        },
        "id": "9nJyTBX1zkk5",
        "outputId": "2637701b-3963-4a0f-9cd3-ef308e3b009b"
      },
      "id": "9nJyTBX1zkk5",
      "execution_count": 20,
      "outputs": [
        {
          "output_type": "stream",
          "name": "stdout",
          "text": [
            "[1 2 3 4 5 6]\n"
          ]
        }
      ]
    },
    {
      "cell_type": "code",
      "source": [
        "import numpy as np\n",
        "a = np.array([[1,2,3,4],[5,6,7,8]], dtype='int')\n",
        "print(a)\n",
        "print(a.dtype)\n",
        "print(a.itemsize)\n",
        "print(a.nbytes)\n",
        "print(a[1,1:3:1])\n",
        "print(a[0,1:3:1])\n",
        "\n"
      ],
      "metadata": {
        "colab": {
          "base_uri": "https://localhost:8080/"
        },
        "id": "5voe52Q5z8Q4",
        "outputId": "e53eb429-7a77-4637-8081-ffe810cdfe39"
      },
      "id": "5voe52Q5z8Q4",
      "execution_count": 54,
      "outputs": [
        {
          "output_type": "stream",
          "name": "stdout",
          "text": [
            "[[1 2 3 4]\n",
            " [5 6 7 8]]\n",
            "int64\n",
            "8\n",
            "64\n",
            "[6 7]\n",
            "[2 3]\n"
          ]
        }
      ]
    },
    {
      "cell_type": "code",
      "source": [
        "a= np.array([[2,3,4],[5,6,8],[8,10,9]])\n",
        "print(a)"
      ],
      "metadata": {
        "colab": {
          "base_uri": "https://localhost:8080/"
        },
        "id": "5xe9dMsf_3u7",
        "outputId": "f4afa049-94d4-4071-ed90-a5b53fc3acb1"
      },
      "id": "5xe9dMsf_3u7",
      "execution_count": 59,
      "outputs": [
        {
          "output_type": "stream",
          "name": "stdout",
          "text": [
            "[[ 2  3  4]\n",
            " [ 5  6  8]\n",
            " [ 8 10  9]]\n"
          ]
        }
      ]
    },
    {
      "cell_type": "code",
      "source": [],
      "metadata": {
        "id": "vQUOECLuCyJn"
      },
      "id": "vQUOECLuCyJn",
      "execution_count": null,
      "outputs": []
    }
  ],
  "metadata": {
    "kernelspec": {
      "display_name": "Python 3 (ipykernel)",
      "language": "python",
      "name": "python3"
    },
    "language_info": {
      "codemirror_mode": {
        "name": "ipython",
        "version": 3
      },
      "file_extension": ".py",
      "mimetype": "text/x-python",
      "name": "python",
      "nbconvert_exporter": "python",
      "pygments_lexer": "ipython3",
      "version": "3.11.7"
    },
    "colab": {
      "provenance": [],
      "include_colab_link": true
    }
  },
  "nbformat": 4,
  "nbformat_minor": 5
}