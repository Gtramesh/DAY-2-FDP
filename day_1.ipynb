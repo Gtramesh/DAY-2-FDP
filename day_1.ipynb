{
  "nbformat": 4,
  "nbformat_minor": 0,
  "metadata": {
    "colab": {
      "provenance": [],
      "authorship_tag": "ABX9TyPCT1Ux+xQX5J/TgfSicF5U",
      "include_colab_link": true
    },
    "kernelspec": {
      "name": "python3",
      "display_name": "Python 3"
    },
    "language_info": {
      "name": "python"
    }
  },
  "cells": [
    {
      "cell_type": "markdown",
      "metadata": {
        "id": "view-in-github",
        "colab_type": "text"
      },
      "source": [
        "<a href=\"https://colab.research.google.com/github/Gtramesh/DAY-2-FDP/blob/main/day_1.ipynb\" target=\"_parent\"><img src=\"https://colab.research.google.com/assets/colab-badge.svg\" alt=\"Open In Colab\"/></a>"
      ]
    },
    {
      "cell_type": "code",
      "execution_count": null,
      "metadata": {
        "colab": {
          "base_uri": "https://localhost:8080/"
        },
        "id": "fqRnphjzMeR-",
        "outputId": "60580ffb-9640-467c-ff92-80942ef9b054"
      },
      "outputs": [
        {
          "output_type": "execute_result",
          "data": {
            "text/plain": [
              "int"
            ]
          },
          "metadata": {},
          "execution_count": 4
        }
      ],
      "source": [
        "name = 1\n",
        "surename = 2\n",
        "\n",
        "\n",
        "type(name)\n"
      ]
    },
    {
      "cell_type": "code",
      "source": [
        "mystr = \"ramesh\"\n",
        "Mystr = 2\n",
        "print(mystr)\n",
        "print(Mystr)\n",
        "print(type(mystr))\n",
        "print(type(Mystr))\n"
      ],
      "metadata": {
        "colab": {
          "base_uri": "https://localhost:8080/"
        },
        "id": "5c2faZAZSoy9",
        "outputId": "1c5d30d5-8efd-4124-a22d-cb58d1efe061"
      },
      "execution_count": null,
      "outputs": [
        {
          "output_type": "stream",
          "name": "stdout",
          "text": [
            "ramesh\n",
            "2\n",
            "<class 'str'>\n",
            "<class 'int'>\n"
          ]
        }
      ]
    },
    {
      "cell_type": "code",
      "source": [
        "my_str = \"ramesh ram\"\n",
        "print(my_str)\n",
        "print(len(my_str))\n",
        "print(my_str[1])\n",
        "print(my_str[-5])\n",
        "print(my_str[-8])\n",
        "print(my_str[-10])\n",
        "print(my_str[-10],my_str[1],my_str[-8],my_str[3],my_str[-6],my_str[5])\n",
        "\n"
      ],
      "metadata": {
        "colab": {
          "base_uri": "https://localhost:8080/"
        },
        "id": "kVDu_JQtUG5H",
        "outputId": "fe583c5b-81ac-4c86-99b7-3eef20d985b0"
      },
      "execution_count": null,
      "outputs": [
        {
          "output_type": "stream",
          "name": "stdout",
          "text": [
            "ramesh ram\n",
            "10\n",
            "a\n",
            "h\n",
            "m\n",
            "r\n",
            "r a m e s h\n"
          ]
        }
      ]
    },
    {
      "cell_type": "code",
      "source": [],
      "metadata": {
        "id": "D8Ro6WIqUHnV"
      },
      "execution_count": null,
      "outputs": []
    },
    {
      "cell_type": "code",
      "source": [
        "name = 1\n",
        "surename = 2\n",
        "third = False\n",
        "\n",
        "\n",
        "\n",
        "type(third)"
      ],
      "metadata": {
        "colab": {
          "base_uri": "https://localhost:8080/"
        },
        "id": "XMrm_DirR9T6",
        "outputId": "98f42efb-754f-440a-8eb5-7b8176ac0dc4"
      },
      "execution_count": null,
      "outputs": [
        {
          "output_type": "execute_result",
          "data": {
            "text/plain": [
              "bool"
            ]
          },
          "metadata": {},
          "execution_count": 12
        }
      ]
    },
    {
      "cell_type": "code",
      "source": [
        "name = 1\n",
        "surename = 2.7\n",
        "third = \"ramesh\"\n",
        "\n",
        "type(surename)"
      ],
      "metadata": {
        "colab": {
          "base_uri": "https://localhost:8080/"
        },
        "id": "RXYLxCERR2Yc",
        "outputId": "d66b807a-19cb-4e42-d2d9-b005a522b0f7"
      },
      "execution_count": null,
      "outputs": [
        {
          "output_type": "execute_result",
          "data": {
            "text/plain": [
              "float"
            ]
          },
          "metadata": {},
          "execution_count": 9
        }
      ]
    },
    {
      "cell_type": "code",
      "source": [
        "name = 1\n",
        "surename = 2\n",
        "third = \"ramesh\"\n",
        "\n",
        "type(third)\n"
      ],
      "metadata": {
        "colab": {
          "base_uri": "https://localhost:8080/"
        },
        "id": "i3rkVyMcRTCV",
        "outputId": "1adf7143-63bd-4f1c-825b-3765886f8f35"
      },
      "execution_count": null,
      "outputs": [
        {
          "output_type": "execute_result",
          "data": {
            "text/plain": [
              "str"
            ]
          },
          "metadata": {},
          "execution_count": 8
        }
      ]
    },
    {
      "cell_type": "code",
      "source": [
        "my_str = \"ramesh ram\"\n",
        "print(my_str[1])\n",
        "print(\"a\"in my_str)\n",
        "print(\"h\" in my_str)\n",
        "print(my_str[5])"
      ],
      "metadata": {
        "colab": {
          "base_uri": "https://localhost:8080/"
        },
        "id": "6Hic8tBqljdk",
        "outputId": "d801b1a4-057f-473d-a43e-1b4dd5f515b2"
      },
      "execution_count": null,
      "outputs": [
        {
          "output_type": "stream",
          "name": "stdout",
          "text": [
            "a\n",
            "True\n",
            "True\n",
            "h\n"
          ]
        }
      ]
    },
    {
      "cell_type": "code",
      "source": [
        "my_str = \"ramesh ram\"\n",
        "print(len(my_str))\n",
        "print(my_str[1:5])\n",
        "print(my_str[0:10])\n",
        "print(my_str[-9:-1])\n",
        "print(my_str[-5:-2])\n",
        "\n"
      ],
      "metadata": {
        "colab": {
          "base_uri": "https://localhost:8080/"
        },
        "id": "-i3duPbWnU-y",
        "outputId": "a65552dd-3e43-435f-a4f0-a684b63c4fea"
      },
      "execution_count": null,
      "outputs": [
        {
          "output_type": "stream",
          "name": "stdout",
          "text": [
            "10\n",
            "ames\n",
            "ramesh ram\n",
            "amesh ra\n",
            "h r\n"
          ]
        }
      ]
    },
    {
      "cell_type": "code",
      "source": [
        "my_str = \"ramesh ram\"\n",
        "print(len(my_str))\n",
        "print(my_str[1:5])\n",
        "print(my_str[0:10])\n",
        "print(my_str[-9:-1])\n",
        "print(my_str[-5:-2])"
      ],
      "metadata": {
        "id": "1dum1iHAox8i"
      },
      "execution_count": null,
      "outputs": []
    },
    {
      "cell_type": "code",
      "source": [
        "mytup1=(1,4,5,\"ram\",2.5,6)\n",
        "mytup2=(1,-4,-5,\"ram\",2.5,6,8)\n",
        "print(mytup1)\n",
        "print(len(mytup1))\n",
        "print(type(mytup1))\n",
        "print(mytup2)\n",
        "print(len(mytup2))\n",
        "print(type(mytup2))"
      ],
      "metadata": {
        "colab": {
          "base_uri": "https://localhost:8080/"
        },
        "id": "zBw9ROCtrkzW",
        "outputId": "9bd125eb-fd3f-4c62-cd02-223e4e3bde00"
      },
      "execution_count": null,
      "outputs": [
        {
          "output_type": "stream",
          "name": "stdout",
          "text": [
            "(1, 4, 5, 'ram', 2.5, 6)\n",
            "6\n",
            "<class 'tuple'>\n",
            "(1, -4, -5, 'ram', 2.5, 6, 8)\n",
            "7\n",
            "<class 'tuple'>\n"
          ]
        }
      ]
    },
    {
      "cell_type": "code",
      "source": [
        "empty=()\n",
        "print(empty)\n",
        "print(type(empty))\n"
      ],
      "metadata": {
        "colab": {
          "base_uri": "https://localhost:8080/"
        },
        "id": "xsRgpBN-qg5C",
        "outputId": "ef2aacdb-7fb2-417a-bc9d-4b14b913dcd4"
      },
      "execution_count": null,
      "outputs": [
        {
          "output_type": "stream",
          "name": "stdout",
          "text": [
            "()\n",
            "<class 'tuple'>\n"
          ]
        }
      ]
    },
    {
      "cell_type": "code",
      "source": [
        "tuple1=(1,2),\n",
        "tuple2=(5,6),\n",
        "res=tuple1 + tuple2\n",
        "print(res)\n",
        "print(len(res))"
      ],
      "metadata": {
        "colab": {
          "base_uri": "https://localhost:8080/"
        },
        "id": "dLRfDWYxvOvM",
        "outputId": "7ce72ee4-5d5e-4e2a-ddc0-3680c279f5cb"
      },
      "execution_count": null,
      "outputs": [
        {
          "output_type": "stream",
          "name": "stdout",
          "text": [
            "((1, 2), (5, 6))\n",
            "2\n"
          ]
        }
      ]
    },
    {
      "cell_type": "code",
      "source": [
        "tuple1=(1,2)\n",
        "tuple2=(5,6)\n",
        "res=tuple1 + tuple2\n",
        "print(res)\n",
        "print(len(res))"
      ],
      "metadata": {
        "colab": {
          "base_uri": "https://localhost:8080/"
        },
        "id": "SvzNjJ91wdHW",
        "outputId": "82789751-3475-477f-cad9-78c8651832aa"
      },
      "execution_count": null,
      "outputs": [
        {
          "output_type": "stream",
          "name": "stdout",
          "text": [
            "(1, 2, 5, 6)\n",
            "4\n"
          ]
        }
      ]
    },
    {
      "cell_type": "code",
      "source": [
        "tuple1=(1,2),\n",
        "tuple2=(5,6)\n",
        "res=tuple1 + tuple2\n",
        "print(res)\n",
        "print(len(res))"
      ],
      "metadata": {
        "colab": {
          "base_uri": "https://localhost:8080/"
        },
        "id": "RogjaTAzwd2e",
        "outputId": "9235d6ee-76df-480d-8f0f-fd0fc89a1c85"
      },
      "execution_count": null,
      "outputs": [
        {
          "output_type": "stream",
          "name": "stdout",
          "text": [
            "((1, 2), 5, 6)\n",
            "3\n"
          ]
        }
      ]
    },
    {
      "cell_type": "code",
      "source": [
        "tuple1=(1,2)\n",
        "tuple2=(5,6),\n",
        "res=tuple1 + tuple2\n",
        "print(res)\n",
        "print(len(res))"
      ],
      "metadata": {
        "colab": {
          "base_uri": "https://localhost:8080/"
        },
        "id": "fQaSE43wwedl",
        "outputId": "7d9ffac7-0157-4d10-ffd1-c5121740bcd0"
      },
      "execution_count": null,
      "outputs": [
        {
          "output_type": "stream",
          "name": "stdout",
          "text": [
            "(1, 2, (5, 6))\n",
            "3\n"
          ]
        }
      ]
    },
    {
      "cell_type": "code",
      "source": [
        "tuple1=(1,2),\n",
        "tuple2=(5,6),\n",
        "res=tuple1 + tuple2\n",
        "print(res)\n",
        "print(type(res))\n",
        "print(len(res))\n",
        "x=res * 4\n",
        "print(x)\n",
        "print(len(x))"
      ],
      "metadata": {
        "colab": {
          "base_uri": "https://localhost:8080/"
        },
        "id": "X_MfQY5zw3kE",
        "outputId": "bd570ca7-6a02-4ef0-9434-fc442dc8af9e"
      },
      "execution_count": null,
      "outputs": [
        {
          "output_type": "stream",
          "name": "stdout",
          "text": [
            "((1, 2), (5, 6))\n",
            "<class 'tuple'>\n",
            "2\n",
            "((1, 2), (5, 6), (1, 2), (5, 6), (1, 2), (5, 6), (1, 2), (5, 6))\n",
            "8\n"
          ]
        }
      ]
    },
    {
      "cell_type": "code",
      "source": [
        "from mmap import MADV_NOHUGEPAGE\n",
        "tuple1=(1,2),\n",
        "tuple2=(5,6),\n",
        "res=tuple1 + tuple2\n",
        "print(\"result is\" +str(res))\n",
        "print(len(res))\n",
        "man=res * 5\n",
        "print(man)\n",
        "print(len(man))"
      ],
      "metadata": {
        "colab": {
          "base_uri": "https://localhost:8080/"
        },
        "id": "Ur8RySkzyMbP",
        "outputId": "a0140a3e-c22b-424c-e834-56855be2204e"
      },
      "execution_count": null,
      "outputs": [
        {
          "output_type": "stream",
          "name": "stdout",
          "text": [
            "result is((1, 2), (5, 6))\n",
            "2\n",
            "((1, 2), (5, 6), (1, 2), (5, 6), (1, 2), (5, 6), (1, 2), (5, 6), (1, 2), (5, 6))\n",
            "10\n"
          ]
        }
      ]
    },
    {
      "cell_type": "code",
      "source": [
        "fam1=[1,0,3,0,5,3,7,6]\n",
        "fam1\n",
        "type(fam1)"
      ],
      "metadata": {
        "colab": {
          "base_uri": "https://localhost:8080/"
        },
        "id": "gNxBIJUvz03_",
        "outputId": "061605ea-7a86-429d-8bca-a6684eaf2269"
      },
      "execution_count": null,
      "outputs": [
        {
          "output_type": "execute_result",
          "data": {
            "text/plain": [
              "list"
            ]
          },
          "metadata": {},
          "execution_count": 43
        }
      ]
    },
    {
      "cell_type": "code",
      "source": [
        "fam1=[\"fmf\",1.0,\"mum\",3.0,\"gtg\",5.3,\"lel\",7.6]\n",
        "fam1\n",
        "type(fam1)"
      ],
      "metadata": {
        "colab": {
          "base_uri": "https://localhost:8080/"
        },
        "id": "TFET1Nig2rvO",
        "outputId": "944812ab-78f4-4fe0-e10d-8728efc00b33"
      },
      "execution_count": null,
      "outputs": [
        {
          "output_type": "execute_result",
          "data": {
            "text/plain": [
              "list"
            ]
          },
          "metadata": {},
          "execution_count": 49
        }
      ]
    },
    {
      "cell_type": "code",
      "source": [
        "fam1=[\"fmf\",1.0,\"mum\",3.0,\"gtg\",5.3,\"lel\",7.6]\n",
        "fam1"
      ],
      "metadata": {
        "colab": {
          "base_uri": "https://localhost:8080/"
        },
        "id": "dvd4J48U3cT3",
        "outputId": "3d519ff1-f4e3-45f5-c9a5-231916f9dab6"
      },
      "execution_count": null,
      "outputs": [
        {
          "output_type": "execute_result",
          "data": {
            "text/plain": [
              "['fmf', 1.0, 'mum', 3.0, 'gtg', 5.3, 'lel', 7.6]"
            ]
          },
          "metadata": {},
          "execution_count": 50
        }
      ]
    },
    {
      "cell_type": "code",
      "source": [
        "fam1=[\"fmf\",1.0,\"mum\",3.0,\"gtg\",5.3,\"lel\",7.6]\n",
        "fam1[0:1]"
      ],
      "metadata": {
        "colab": {
          "base_uri": "https://localhost:8080/"
        },
        "id": "wTzFHPh83jMG",
        "outputId": "ee6b2d68-892c-4f5f-90ae-1a9980894563"
      },
      "execution_count": null,
      "outputs": [
        {
          "output_type": "execute_result",
          "data": {
            "text/plain": [
              "['fmf']"
            ]
          },
          "metadata": {},
          "execution_count": 51
        }
      ]
    },
    {
      "cell_type": "code",
      "source": [],
      "metadata": {
        "id": "g46x46fk8t87"
      },
      "execution_count": null,
      "outputs": []
    },
    {
      "cell_type": "code",
      "source": [],
      "metadata": {
        "id": "NGOk3v9E8Eqy"
      },
      "execution_count": null,
      "outputs": []
    },
    {
      "cell_type": "code",
      "source": [
        "fam1=[\"fmf\",1.0,\"mum\",3.0,\"gtg\",5.3,\"lel\",7.6]\n",
        "fam1[0:2]=\"lol\",2.0\n",
        "fam1"
      ],
      "metadata": {
        "colab": {
          "base_uri": "https://localhost:8080/"
        },
        "id": "ebvzmjO837Gt",
        "outputId": "f641827c-d53c-447e-c630-7d97820d32ee"
      },
      "execution_count": null,
      "outputs": [
        {
          "output_type": "execute_result",
          "data": {
            "text/plain": [
              "['lol', 2.0, 'mum', 3.0, 'gtg', 5.3, 'lel', 7.6]"
            ]
          },
          "metadata": {},
          "execution_count": 72
        }
      ]
    },
    {
      "cell_type": "code",
      "source": [
        "fam1=[\"fmf\",1.0,\"mum\",3.0,\"gtg\",5.3,\"lel\",7.6]\n",
        "fam1[0:2]=\"lol\",2.0\n",
        "fam1[3]=\"ghg\"\n",
        "fam1"
      ],
      "metadata": {
        "colab": {
          "base_uri": "https://localhost:8080/"
        },
        "id": "lg0zk0Qs51NG",
        "outputId": "f7f1e89c-5804-4a12-ad83-0a23031f47d0"
      },
      "execution_count": null,
      "outputs": [
        {
          "output_type": "execute_result",
          "data": {
            "text/plain": [
              "['lol', 2.0, 'mum', 'ghg', 'gtg', 5.3, 'lel', 7.6]"
            ]
          },
          "metadata": {},
          "execution_count": 73
        }
      ]
    },
    {
      "cell_type": "code",
      "source": [
        "round(1.78,2)"
      ],
      "metadata": {
        "colab": {
          "base_uri": "https://localhost:8080/"
        },
        "id": "m7Anhgzj7qDt",
        "outputId": "9ec6a4e6-501d-4bb2-ced8-99c497b27819"
      },
      "execution_count": null,
      "outputs": [
        {
          "output_type": "execute_result",
          "data": {
            "text/plain": [
              "1.78"
            ]
          },
          "metadata": {},
          "execution_count": 77
        }
      ]
    }
  ]
}